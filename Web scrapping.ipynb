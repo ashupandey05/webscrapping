{
 "cells": [
  {
   "cell_type": "code",
   "execution_count": 2,
   "id": "33233f81",
   "metadata": {},
   "outputs": [
    {
     "name": "stdout",
     "output_type": "stream",
     "text": [
      "<!DOCTYPE html>\n",
      "<html>\n",
      " <head>\n",
      "  <title>\n",
      "   Navigate Parse Tree\n",
      "  </title>\n",
      " </head>\n",
      " <body>\n",
      "  <h1>\n",
      "   This is your Assignment\n",
      "  </h1>\n",
      "  <a href=\"https://www.google.com\">\n",
      "   This is a link that will take you to Google\n",
      "  </a>\n",
      "  <ul>\n",
      "   <li>\n",
      "    <p>\n",
      "     This question is given to test your knowledge of\n",
      "     <b>\n",
      "      Web Scraping\n",
      "     </b>\n",
      "    </p>\n",
      "    <p>\n",
      "     Web scraping is a term used to describe the use of a program or algorithm to extract and process large amounts of data from the web.\n",
      "    </p>\n",
      "   </li>\n",
      "   <li id=\"li2\">\n",
      "    This is an li tag given to you for scraping\n",
      "   </li>\n",
      "   <li>\n",
      "    This li tag gives you the various ways to get data from a website\n",
      "    <ol>\n",
      "     <li class=\"list_or\">\n",
      "      Using API of the website\n",
      "     </li>\n",
      "     <li>\n",
      "      Scrape data using BeautifulSoup\n",
      "     </li>\n",
      "     <li>\n",
      "      Scrape data using Selenium\n",
      "     </li>\n",
      "     <li>\n",
      "      Scrape data using Scrapy\n",
      "     </li>\n",
      "    </ol>\n",
      "   </li>\n",
      "   <li class=\"list_or\">\n",
      "    <a href=\"https://www.crummy.com/software/BeautifulSoup/bs4/doc/\">\n",
      "     Clicking on this takes you to the documentation of BeautifulSoup\n",
      "    </a>\n",
      "    <a href=\"https://selenium-python.readthedocs.io/\" id=\"anchor\">\n",
      "     Clicking on this takes you to the documentation of Selenium\n",
      "    </a>\n",
      "   </li>\n",
      "  </ul>\n",
      " </body>\n",
      "</html>\n",
      "\n",
      "Clicking on this takes you to the documentation of BeautifulSoup\n"
     ]
    }
   ],
   "source": [
    "html = '<!DOCTYPE html><html><head><title>Navigate Parse Tree</title></head>\\\n",
    "<body><h1>This is your Assignment</h1><a href = \"https://www.google.com\">This is a link that will take you to Google</a>\\\n",
    "<ul><li><p> This question is given to test your knowledge of <b>Web Scraping</b></p>\\\n",
    "<p>Web scraping is a term used to describe the use of a program or algorithm to extract and process large amounts of data from the web.</p></li>\\\n",
    "<li id = \"li2\">This is an li tag given to you for scraping</li>\\\n",
    "<li>This li tag gives you the various ways to get data from a website\\\n",
    "<ol><li class = \"list_or\">Using API of the website</li><li>Scrape data using BeautifulSoup</li><li>Scrape data using Selenium</li>\\\n",
    "<li>Scrape data using Scrapy</li></ol></li>\\\n",
    "<li class = \"list_or\"><a href=\"https://www.crummy.com/software/BeautifulSoup/bs4/doc/\">\\\n",
    "Clicking on this takes you to the documentation of BeautifulSoup</a>\\\n",
    "<a href=\"https://selenium-python.readthedocs.io/\" id=\"anchor\">Clicking on this takes you to the documentation of Selenium</a>\\\n",
    "</li></ul></body></html>'\n",
    "\n",
    "## Print the required output in given format\n",
    "from bs4 import BeautifulSoup\n",
    "data=BeautifulSoup(html,'html.parser')\n",
    "print(data.prettify())\n",
    "a1= data.find_all('a')[1].next_element\n",
    "print(a1)"
   ]
  },
  {
   "cell_type": "code",
   "execution_count": null,
   "id": "2ebbcd01",
   "metadata": {},
   "outputs": [],
   "source": []
  }
 ],
 "metadata": {
  "kernelspec": {
   "display_name": "Python 3 (ipykernel)",
   "language": "python",
   "name": "python3"
  },
  "language_info": {
   "codemirror_mode": {
    "name": "ipython",
    "version": 3
   },
   "file_extension": ".py",
   "mimetype": "text/x-python",
   "name": "python",
   "nbconvert_exporter": "python",
   "pygments_lexer": "ipython3",
   "version": "3.11.4"
  }
 },
 "nbformat": 4,
 "nbformat_minor": 5
}
